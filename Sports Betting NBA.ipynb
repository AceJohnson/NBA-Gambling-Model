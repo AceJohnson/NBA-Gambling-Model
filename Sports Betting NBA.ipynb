{
 "cells": [
  {
   "cell_type": "code",
   "execution_count": 1,
   "metadata": {},
   "outputs": [],
   "source": [
    "import pandas as pd\n",
    "import numpy as np\n",
    "import seaborn as sns\n",
    "import matplotlib.pyplot as plt\n",
    "from sklearn.linear_model import LinearRegression\n",
    "from sklearn import metrics\n",
    "from sklearn.preprocessing import StandardScaler\n",
    "from sklearn.metrics import mean_squared_error\n",
    "from math import sqrt\n",
    "from sklearn import metrics\n",
    "pd.set_option('display.max_columns', 500)\n",
    "pd.set_option('display.max_rows', 500)\n",
    "pd.set_option('max_colwidth', 500)\n",
    "\n",
    "\n",
    "%matplotlib inline\n"
   ]
  },
  {
   "cell_type": "code",
   "execution_count": 2,
   "metadata": {},
   "outputs": [],
   "source": [
    "train= pd.read_csv('./fucking_por_nba.csv')"
   ]
  },
  {
   "cell_type": "code",
   "execution_count": 3,
   "metadata": {},
   "outputs": [
    {
     "data": {
      "text/plain": [
       "(50, 14)"
      ]
     },
     "execution_count": 3,
     "metadata": {},
     "output_type": "execute_result"
    }
   ],
   "source": [
    "train.shape"
   ]
  },
  {
   "cell_type": "code",
   "execution_count": 4,
   "metadata": {},
   "outputs": [
    {
     "data": {
      "text/html": [
       "<div>\n",
       "<style scoped>\n",
       "    .dataframe tbody tr th:only-of-type {\n",
       "        vertical-align: middle;\n",
       "    }\n",
       "\n",
       "    .dataframe tbody tr th {\n",
       "        vertical-align: top;\n",
       "    }\n",
       "\n",
       "    .dataframe thead th {\n",
       "        text-align: right;\n",
       "    }\n",
       "</style>\n",
       "<table border=\"1\" class=\"dataframe\">\n",
       "  <thead>\n",
       "    <tr style=\"text-align: right;\">\n",
       "      <th></th>\n",
       "      <th>POR eFG%</th>\n",
       "      <th>PORTOV%</th>\n",
       "      <th>POR ORB%</th>\n",
       "      <th>POR FT/FGA</th>\n",
       "      <th>POR ORtg</th>\n",
       "      <th>Opp eFG%</th>\n",
       "      <th>Opp TOV%</th>\n",
       "      <th>Opp ORB%</th>\n",
       "      <th>Opp FT/FGA</th>\n",
       "      <th>Opp ORtg</th>\n",
       "      <th>Home</th>\n",
       "      <th>Away</th>\n",
       "      <th>Blazers</th>\n",
       "      <th>Opp</th>\n",
       "    </tr>\n",
       "  </thead>\n",
       "  <tbody>\n",
       "    <tr>\n",
       "      <th>0</th>\n",
       "      <td>0.528</td>\n",
       "      <td>10.7</td>\n",
       "      <td>23.4</td>\n",
       "      <td>0.222</td>\n",
       "      <td>115.4</td>\n",
       "      <td>0.390</td>\n",
       "      <td>9.7</td>\n",
       "      <td>19.0</td>\n",
       "      <td>0.176</td>\n",
       "      <td>87.3</td>\n",
       "      <td>1</td>\n",
       "      <td>0</td>\n",
       "      <td>115</td>\n",
       "      <td>87</td>\n",
       "    </tr>\n",
       "    <tr>\n",
       "      <th>1</th>\n",
       "      <td>0.601</td>\n",
       "      <td>17.8</td>\n",
       "      <td>26.8</td>\n",
       "      <td>0.202</td>\n",
       "      <td>115.2</td>\n",
       "      <td>0.401</td>\n",
       "      <td>7.8</td>\n",
       "      <td>29.5</td>\n",
       "      <td>0.170</td>\n",
       "      <td>100.6</td>\n",
       "      <td>1</td>\n",
       "      <td>0</td>\n",
       "      <td>118</td>\n",
       "      <td>103</td>\n",
       "    </tr>\n",
       "    <tr>\n",
       "      <th>2</th>\n",
       "      <td>0.494</td>\n",
       "      <td>15.0</td>\n",
       "      <td>17.6</td>\n",
       "      <td>0.198</td>\n",
       "      <td>98.9</td>\n",
       "      <td>0.417</td>\n",
       "      <td>15.2</td>\n",
       "      <td>24.5</td>\n",
       "      <td>0.345</td>\n",
       "      <td>96.0</td>\n",
       "      <td>0</td>\n",
       "      <td>1</td>\n",
       "      <td>102</td>\n",
       "      <td>99</td>\n",
       "    </tr>\n",
       "    <tr>\n",
       "      <th>3</th>\n",
       "      <td>0.506</td>\n",
       "      <td>9.6</td>\n",
       "      <td>14.9</td>\n",
       "      <td>0.136</td>\n",
       "      <td>105.2</td>\n",
       "      <td>0.443</td>\n",
       "      <td>11.1</td>\n",
       "      <td>30.9</td>\n",
       "      <td>0.146</td>\n",
       "      <td>103.1</td>\n",
       "      <td>0</td>\n",
       "      <td>1</td>\n",
       "      <td>101</td>\n",
       "      <td>99</td>\n",
       "    </tr>\n",
       "    <tr>\n",
       "      <th>4</th>\n",
       "      <td>0.510</td>\n",
       "      <td>9.6</td>\n",
       "      <td>22.6</td>\n",
       "      <td>0.270</td>\n",
       "      <td>116.4</td>\n",
       "      <td>0.453</td>\n",
       "      <td>6.7</td>\n",
       "      <td>31.1</td>\n",
       "      <td>0.164</td>\n",
       "      <td>111.9</td>\n",
       "      <td>1</td>\n",
       "      <td>0</td>\n",
       "      <td>129</td>\n",
       "      <td>124</td>\n",
       "    </tr>\n",
       "  </tbody>\n",
       "</table>\n",
       "</div>"
      ],
      "text/plain": [
       "   POR eFG%  PORTOV%  POR ORB%  POR FT/FGA  POR ORtg  Opp eFG%  Opp TOV%  \\\n",
       "0     0.528     10.7      23.4       0.222     115.4     0.390       9.7   \n",
       "1     0.601     17.8      26.8       0.202     115.2     0.401       7.8   \n",
       "2     0.494     15.0      17.6       0.198      98.9     0.417      15.2   \n",
       "3     0.506      9.6      14.9       0.136     105.2     0.443      11.1   \n",
       "4     0.510      9.6      22.6       0.270     116.4     0.453       6.7   \n",
       "\n",
       "   Opp ORB%  Opp FT/FGA  Opp ORtg  Home  Away  Blazers  Opp  \n",
       "0      19.0       0.176      87.3     1     0      115   87  \n",
       "1      29.5       0.170     100.6     1     0      118  103  \n",
       "2      24.5       0.345      96.0     0     1      102   99  \n",
       "3      30.9       0.146     103.1     0     1      101   99  \n",
       "4      31.1       0.164     111.9     1     0      129  124  "
      ]
     },
     "execution_count": 4,
     "metadata": {},
     "output_type": "execute_result"
    }
   ],
   "source": [
    "train.head()"
   ]
  },
  {
   "cell_type": "code",
   "execution_count": 5,
   "metadata": {},
   "outputs": [],
   "source": [
    "features = train.drop(['Blazers','Opp'], axis=1)"
   ]
  },
  {
   "cell_type": "code",
   "execution_count": 6,
   "metadata": {},
   "outputs": [
    {
     "data": {
      "text/html": [
       "<div>\n",
       "<style scoped>\n",
       "    .dataframe tbody tr th:only-of-type {\n",
       "        vertical-align: middle;\n",
       "    }\n",
       "\n",
       "    .dataframe tbody tr th {\n",
       "        vertical-align: top;\n",
       "    }\n",
       "\n",
       "    .dataframe thead th {\n",
       "        text-align: right;\n",
       "    }\n",
       "</style>\n",
       "<table border=\"1\" class=\"dataframe\">\n",
       "  <thead>\n",
       "    <tr style=\"text-align: right;\">\n",
       "      <th></th>\n",
       "      <th>POR eFG%</th>\n",
       "      <th>PORTOV%</th>\n",
       "      <th>POR ORB%</th>\n",
       "      <th>POR FT/FGA</th>\n",
       "      <th>POR ORtg</th>\n",
       "      <th>Opp eFG%</th>\n",
       "      <th>Opp TOV%</th>\n",
       "      <th>Opp ORB%</th>\n",
       "      <th>Opp FT/FGA</th>\n",
       "      <th>Opp ORtg</th>\n",
       "      <th>Home</th>\n",
       "      <th>Away</th>\n",
       "    </tr>\n",
       "  </thead>\n",
       "  <tbody>\n",
       "    <tr>\n",
       "      <th>0</th>\n",
       "      <td>0.528</td>\n",
       "      <td>10.7</td>\n",
       "      <td>23.4</td>\n",
       "      <td>0.222</td>\n",
       "      <td>115.4</td>\n",
       "      <td>0.390</td>\n",
       "      <td>9.7</td>\n",
       "      <td>19.0</td>\n",
       "      <td>0.176</td>\n",
       "      <td>87.3</td>\n",
       "      <td>1</td>\n",
       "      <td>0</td>\n",
       "    </tr>\n",
       "    <tr>\n",
       "      <th>1</th>\n",
       "      <td>0.601</td>\n",
       "      <td>17.8</td>\n",
       "      <td>26.8</td>\n",
       "      <td>0.202</td>\n",
       "      <td>115.2</td>\n",
       "      <td>0.401</td>\n",
       "      <td>7.8</td>\n",
       "      <td>29.5</td>\n",
       "      <td>0.170</td>\n",
       "      <td>100.6</td>\n",
       "      <td>1</td>\n",
       "      <td>0</td>\n",
       "    </tr>\n",
       "    <tr>\n",
       "      <th>2</th>\n",
       "      <td>0.494</td>\n",
       "      <td>15.0</td>\n",
       "      <td>17.6</td>\n",
       "      <td>0.198</td>\n",
       "      <td>98.9</td>\n",
       "      <td>0.417</td>\n",
       "      <td>15.2</td>\n",
       "      <td>24.5</td>\n",
       "      <td>0.345</td>\n",
       "      <td>96.0</td>\n",
       "      <td>0</td>\n",
       "      <td>1</td>\n",
       "    </tr>\n",
       "    <tr>\n",
       "      <th>3</th>\n",
       "      <td>0.506</td>\n",
       "      <td>9.6</td>\n",
       "      <td>14.9</td>\n",
       "      <td>0.136</td>\n",
       "      <td>105.2</td>\n",
       "      <td>0.443</td>\n",
       "      <td>11.1</td>\n",
       "      <td>30.9</td>\n",
       "      <td>0.146</td>\n",
       "      <td>103.1</td>\n",
       "      <td>0</td>\n",
       "      <td>1</td>\n",
       "    </tr>\n",
       "    <tr>\n",
       "      <th>4</th>\n",
       "      <td>0.510</td>\n",
       "      <td>9.6</td>\n",
       "      <td>22.6</td>\n",
       "      <td>0.270</td>\n",
       "      <td>116.4</td>\n",
       "      <td>0.453</td>\n",
       "      <td>6.7</td>\n",
       "      <td>31.1</td>\n",
       "      <td>0.164</td>\n",
       "      <td>111.9</td>\n",
       "      <td>1</td>\n",
       "      <td>0</td>\n",
       "    </tr>\n",
       "  </tbody>\n",
       "</table>\n",
       "</div>"
      ],
      "text/plain": [
       "   POR eFG%  PORTOV%  POR ORB%  POR FT/FGA  POR ORtg  Opp eFG%  Opp TOV%  \\\n",
       "0     0.528     10.7      23.4       0.222     115.4     0.390       9.7   \n",
       "1     0.601     17.8      26.8       0.202     115.2     0.401       7.8   \n",
       "2     0.494     15.0      17.6       0.198      98.9     0.417      15.2   \n",
       "3     0.506      9.6      14.9       0.136     105.2     0.443      11.1   \n",
       "4     0.510      9.6      22.6       0.270     116.4     0.453       6.7   \n",
       "\n",
       "   Opp ORB%  Opp FT/FGA  Opp ORtg  Home  Away  \n",
       "0      19.0       0.176      87.3     1     0  \n",
       "1      29.5       0.170     100.6     1     0  \n",
       "2      24.5       0.345      96.0     0     1  \n",
       "3      30.9       0.146     103.1     0     1  \n",
       "4      31.1       0.164     111.9     1     0  "
      ]
     },
     "execution_count": 6,
     "metadata": {},
     "output_type": "execute_result"
    }
   ],
   "source": [
    "features.head()"
   ]
  },
  {
   "cell_type": "code",
   "execution_count": 7,
   "metadata": {},
   "outputs": [],
   "source": [
    "X = features\n",
    "y = train['Blazers']"
   ]
  },
  {
   "cell_type": "code",
   "execution_count": 8,
   "metadata": {},
   "outputs": [],
   "source": [
    "from sklearn.model_selection import train_test_split\n",
    "\n",
    "X_train, X_test, y_train, y_test = train_test_split(X,y)"
   ]
  },
  {
   "cell_type": "code",
   "execution_count": 9,
   "metadata": {},
   "outputs": [
    {
     "name": "stdout",
     "output_type": "stream",
     "text": [
      "0.0 0.8640140960871308\n",
      "0.0 0.6860832809415984\n",
      "\n",
      "0.1 0.8557563124660313\n",
      "0.1 0.700971554700924\n",
      "\n",
      "0.2 0.8473883131936125\n",
      "0.2 0.6998554514225555\n",
      "\n",
      "0.3 0.8372553294888923\n",
      "0.3 0.6929643244978119\n",
      "\n",
      "0.4 0.8260216119069128\n",
      "0.4 0.6831182130391484\n",
      "\n",
      "0.5 0.8141300969032796\n",
      "0.5 0.6717292632103925\n",
      "\n",
      "0.6 0.8018670802966841\n",
      "0.6 0.6595503146603774\n",
      "\n",
      "0.7 0.7894253153458013\n",
      "0.7 0.6470076250405619\n",
      "\n",
      "0.8 0.7769387725102059\n",
      "0.8 0.6343539300129897\n",
      "\n",
      "0.9 0.7645023971327255\n",
      "0.9 0.6217440701915324\n",
      "\n"
     ]
    },
    {
     "name": "stderr",
     "output_type": "stream",
     "text": [
      "/Users/AceJohnson/anaconda3/lib/python3.7/site-packages/sklearn/preprocessing/data.py:645: DataConversionWarning: Data with input dtype int64, float64 were all converted to float64 by StandardScaler.\n",
      "  return self.partial_fit(X, y)\n",
      "/Users/AceJohnson/anaconda3/lib/python3.7/site-packages/sklearn/base.py:464: DataConversionWarning: Data with input dtype int64, float64 were all converted to float64 by StandardScaler.\n",
      "  return self.fit(X, **fit_params).transform(X)\n",
      "/Users/AceJohnson/anaconda3/lib/python3.7/site-packages/ipykernel_launcher.py:8: DataConversionWarning: Data with input dtype int64, float64 were all converted to float64 by StandardScaler.\n",
      "  \n"
     ]
    }
   ],
   "source": [
    "from sklearn.linear_model import Ridge\n",
    "from sklearn.metrics import r2_score\n",
    "\n",
    "for alpha in range(10):\n",
    "    alpha=alpha/10\n",
    "    scaler = StandardScaler()\n",
    "    X_train = scaler.fit_transform(X_train)\n",
    "    X_test = scaler.transform(X_test)\n",
    "\n",
    "    # Instantiate the model.\n",
    "    #(Alpha of zero has no regularization strength, essentially a basic linear regression.)\n",
    "    ridgereg = Ridge(alpha=alpha, normalize=True)\n",
    "\n",
    "    # Fit the model.\n",
    "    ridgereg.fit(X_train, y_train)\n",
    "\n",
    "    # Predict with fitted model.\n",
    "    predictions = ridgereg.predict(X_test)\n",
    "\n",
    "    #print(np.sqrt(metrics.mean_squared_error(y_test, y_pred)))\n",
    "    training_score = ridgereg.score(X_train,y_train)\n",
    "    testing_score = r2_score(y_test,predictions)\n",
    "    print(alpha,training_score)\n",
    "    print(alpha,testing_score)\n",
    "    print('')"
   ]
  },
  {
   "cell_type": "code",
   "execution_count": 10,
   "metadata": {},
   "outputs": [
    {
     "data": {
      "text/plain": [
       "array([115.53846154, 115.53846154, 115.53846154, 115.53846154,\n",
       "       115.53846154, 115.53846154, 115.53846154, 115.53846154,\n",
       "       115.53846154, 115.53846154, 115.53846154, 115.53846154,\n",
       "       115.53846154])"
      ]
     },
     "execution_count": 10,
     "metadata": {},
     "output_type": "execute_result"
    }
   ],
   "source": [
    "# Create a NumPy array with the same shape as y_test.\n",
    "y_null = np.zeros_like(y_test, dtype=float)\n",
    "\n",
    "# Fill the array with the mean value of y_test.\n",
    "y_null.fill(y_test.mean())\n",
    "y_null"
   ]
  },
  {
   "cell_type": "code",
   "execution_count": 11,
   "metadata": {},
   "outputs": [
    {
     "name": "stdout",
     "output_type": "stream",
     "text": [
      "Null RMSE: 9.572519840390749\n",
      "Predicted RMSE: 5.8873404092813395\n"
     ]
    }
   ],
   "source": [
    "print('Null RMSE:', np.sqrt(metrics.mean_squared_error(y_test, y_null)))\n",
    "print('Predicted RMSE:', np.sqrt(metrics.mean_squared_error(y_test,predictions)))"
   ]
  },
  {
   "cell_type": "code",
   "execution_count": null,
   "metadata": {},
   "outputs": [],
   "source": []
  },
  {
   "cell_type": "code",
   "execution_count": 12,
   "metadata": {},
   "outputs": [],
   "source": [
    "predictions=pd.DataFrame(predictions)"
   ]
  },
  {
   "cell_type": "code",
   "execution_count": 13,
   "metadata": {},
   "outputs": [
    {
     "ename": "AttributeError",
     "evalue": "'function' object has no attribute 'to_csv'",
     "output_type": "error",
     "traceback": [
      "\u001b[0;31m---------------------------------------------------------------------------\u001b[0m",
      "\u001b[0;31mAttributeError\u001b[0m                            Traceback (most recent call last)",
      "\u001b[0;32m<ipython-input-13-6c8a79fb70ec>\u001b[0m in \u001b[0;36m<module>\u001b[0;34m\u001b[0m\n\u001b[0;32m----> 1\u001b[0;31m \u001b[0mridgereg\u001b[0m\u001b[0;34m.\u001b[0m\u001b[0mpredict\u001b[0m\u001b[0;34m.\u001b[0m\u001b[0mto_csv\u001b[0m\u001b[0;34m(\u001b[0m\u001b[0;34m'prediction_5_ridge.csv'\u001b[0m\u001b[0;34m)\u001b[0m\u001b[0;34m\u001b[0m\u001b[0;34m\u001b[0m\u001b[0m\n\u001b[0m",
      "\u001b[0;31mAttributeError\u001b[0m: 'function' object has no attribute 'to_csv'"
     ]
    }
   ],
   "source": [
    "ridgereg.predict.to_csv('prediction_5_ridge.csv')"
   ]
  },
  {
   "cell_type": "code",
   "execution_count": 14,
   "metadata": {},
   "outputs": [
    {
     "name": "stdout",
     "output_type": "stream",
     "text": [
      "             0\n",
      "0   109.199657\n",
      "1   111.400426\n",
      "2   115.772058\n",
      "3   115.668666\n",
      "4   112.573251\n",
      "5   123.810504\n",
      "6   103.309973\n",
      "7   104.921265\n",
      "8   123.597441\n",
      "9   114.469926\n",
      "10  114.806855\n",
      "11  112.810821\n",
      "12  110.226824\n"
     ]
    }
   ],
   "source": [
    "print(predictions)"
   ]
  },
  {
   "cell_type": "code",
   "execution_count": null,
   "metadata": {},
   "outputs": [],
   "source": []
  }
 ],
 "metadata": {
  "kernelspec": {
   "display_name": "Python 3",
   "language": "python",
   "name": "python3"
  },
  "language_info": {
   "codemirror_mode": {
    "name": "ipython",
    "version": 3
   },
   "file_extension": ".py",
   "mimetype": "text/x-python",
   "name": "python",
   "nbconvert_exporter": "python",
   "pygments_lexer": "ipython3",
   "version": "3.7.3"
  }
 },
 "nbformat": 4,
 "nbformat_minor": 2
}
