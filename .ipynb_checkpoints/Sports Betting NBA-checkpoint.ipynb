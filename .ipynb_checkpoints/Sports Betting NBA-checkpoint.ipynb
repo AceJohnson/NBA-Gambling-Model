{
 "cells": [
  {
   "cell_type": "code",
   "execution_count": 181,
   "metadata": {},
   "outputs": [],
   "source": [
    "import pandas as pd\n",
    "import numpy as np\n",
    "import seaborn as sns\n",
    "import matplotlib.pyplot as plt\n",
    "from sklearn.linear_model import LinearRegression\n",
    "from sklearn import metrics\n",
    "from sklearn.preprocessing import StandardScaler\n",
    "from sklearn.metrics import mean_squared_error\n",
    "from math import sqrt\n",
    "from sklearn import metrics\n",
    "pd.set_option('display.max_columns', 500)\n",
    "pd.set_option('display.max_rows', 500)\n",
    "pd.set_option('max_colwidth', 500)\n",
    "\n",
    "\n",
    "%matplotlib inline\n"
   ]
  },
  {
   "cell_type": "code",
   "execution_count": 182,
   "metadata": {},
   "outputs": [],
   "source": [
    "train= pd.read_csv('./fucking_por_nba.csv')"
   ]
  },
  {
   "cell_type": "code",
   "execution_count": 183,
   "metadata": {},
   "outputs": [
    {
     "data": {
      "text/plain": [
       "(50, 14)"
      ]
     },
     "execution_count": 183,
     "metadata": {},
     "output_type": "execute_result"
    }
   ],
   "source": [
    "train.shape"
   ]
  },
  {
   "cell_type": "code",
   "execution_count": 184,
   "metadata": {},
   "outputs": [
    {
     "data": {
      "text/html": [
       "<div>\n",
       "<style scoped>\n",
       "    .dataframe tbody tr th:only-of-type {\n",
       "        vertical-align: middle;\n",
       "    }\n",
       "\n",
       "    .dataframe tbody tr th {\n",
       "        vertical-align: top;\n",
       "    }\n",
       "\n",
       "    .dataframe thead th {\n",
       "        text-align: right;\n",
       "    }\n",
       "</style>\n",
       "<table border=\"1\" class=\"dataframe\">\n",
       "  <thead>\n",
       "    <tr style=\"text-align: right;\">\n",
       "      <th></th>\n",
       "      <th>POR eFG%</th>\n",
       "      <th>PORTOV%</th>\n",
       "      <th>POR ORB%</th>\n",
       "      <th>POR FT/FGA</th>\n",
       "      <th>POR ORtg</th>\n",
       "      <th>Opp eFG%</th>\n",
       "      <th>Opp TOV%</th>\n",
       "      <th>Opp ORB%</th>\n",
       "      <th>Opp FT/FGA</th>\n",
       "      <th>Opp ORtg</th>\n",
       "      <th>Home</th>\n",
       "      <th>Away</th>\n",
       "      <th>Blazers</th>\n",
       "      <th>Opp</th>\n",
       "    </tr>\n",
       "  </thead>\n",
       "  <tbody>\n",
       "    <tr>\n",
       "      <th>0</th>\n",
       "      <td>0.528</td>\n",
       "      <td>10.7</td>\n",
       "      <td>23.4</td>\n",
       "      <td>0.222</td>\n",
       "      <td>115.4</td>\n",
       "      <td>0.390</td>\n",
       "      <td>9.7</td>\n",
       "      <td>19.0</td>\n",
       "      <td>0.176</td>\n",
       "      <td>87.3</td>\n",
       "      <td>1</td>\n",
       "      <td>0</td>\n",
       "      <td>115</td>\n",
       "      <td>87</td>\n",
       "    </tr>\n",
       "    <tr>\n",
       "      <th>1</th>\n",
       "      <td>0.601</td>\n",
       "      <td>17.8</td>\n",
       "      <td>26.8</td>\n",
       "      <td>0.202</td>\n",
       "      <td>115.2</td>\n",
       "      <td>0.401</td>\n",
       "      <td>7.8</td>\n",
       "      <td>29.5</td>\n",
       "      <td>0.170</td>\n",
       "      <td>100.6</td>\n",
       "      <td>1</td>\n",
       "      <td>0</td>\n",
       "      <td>118</td>\n",
       "      <td>103</td>\n",
       "    </tr>\n",
       "    <tr>\n",
       "      <th>2</th>\n",
       "      <td>0.494</td>\n",
       "      <td>15.0</td>\n",
       "      <td>17.6</td>\n",
       "      <td>0.198</td>\n",
       "      <td>98.9</td>\n",
       "      <td>0.417</td>\n",
       "      <td>15.2</td>\n",
       "      <td>24.5</td>\n",
       "      <td>0.345</td>\n",
       "      <td>96.0</td>\n",
       "      <td>0</td>\n",
       "      <td>1</td>\n",
       "      <td>102</td>\n",
       "      <td>99</td>\n",
       "    </tr>\n",
       "    <tr>\n",
       "      <th>3</th>\n",
       "      <td>0.506</td>\n",
       "      <td>9.6</td>\n",
       "      <td>14.9</td>\n",
       "      <td>0.136</td>\n",
       "      <td>105.2</td>\n",
       "      <td>0.443</td>\n",
       "      <td>11.1</td>\n",
       "      <td>30.9</td>\n",
       "      <td>0.146</td>\n",
       "      <td>103.1</td>\n",
       "      <td>0</td>\n",
       "      <td>1</td>\n",
       "      <td>101</td>\n",
       "      <td>99</td>\n",
       "    </tr>\n",
       "    <tr>\n",
       "      <th>4</th>\n",
       "      <td>0.510</td>\n",
       "      <td>9.6</td>\n",
       "      <td>22.6</td>\n",
       "      <td>0.270</td>\n",
       "      <td>116.4</td>\n",
       "      <td>0.453</td>\n",
       "      <td>6.7</td>\n",
       "      <td>31.1</td>\n",
       "      <td>0.164</td>\n",
       "      <td>111.9</td>\n",
       "      <td>1</td>\n",
       "      <td>0</td>\n",
       "      <td>129</td>\n",
       "      <td>124</td>\n",
       "    </tr>\n",
       "  </tbody>\n",
       "</table>\n",
       "</div>"
      ],
      "text/plain": [
       "   POR eFG%  PORTOV%  POR ORB%  POR FT/FGA  POR ORtg  Opp eFG%  Opp TOV%  \\\n",
       "0     0.528     10.7      23.4       0.222     115.4     0.390       9.7   \n",
       "1     0.601     17.8      26.8       0.202     115.2     0.401       7.8   \n",
       "2     0.494     15.0      17.6       0.198      98.9     0.417      15.2   \n",
       "3     0.506      9.6      14.9       0.136     105.2     0.443      11.1   \n",
       "4     0.510      9.6      22.6       0.270     116.4     0.453       6.7   \n",
       "\n",
       "   Opp ORB%  Opp FT/FGA  Opp ORtg  Home  Away  Blazers  Opp  \n",
       "0      19.0       0.176      87.3     1     0      115   87  \n",
       "1      29.5       0.170     100.6     1     0      118  103  \n",
       "2      24.5       0.345      96.0     0     1      102   99  \n",
       "3      30.9       0.146     103.1     0     1      101   99  \n",
       "4      31.1       0.164     111.9     1     0      129  124  "
      ]
     },
     "execution_count": 184,
     "metadata": {},
     "output_type": "execute_result"
    }
   ],
   "source": [
    "train.head()"
   ]
  },
  {
   "cell_type": "code",
   "execution_count": 187,
   "metadata": {},
   "outputs": [],
   "source": [
    "features = train.drop(['Blazers','Opp'], axis=1)"
   ]
  },
  {
   "cell_type": "code",
   "execution_count": 188,
   "metadata": {},
   "outputs": [
    {
     "data": {
      "text/html": [
       "<div>\n",
       "<style scoped>\n",
       "    .dataframe tbody tr th:only-of-type {\n",
       "        vertical-align: middle;\n",
       "    }\n",
       "\n",
       "    .dataframe tbody tr th {\n",
       "        vertical-align: top;\n",
       "    }\n",
       "\n",
       "    .dataframe thead th {\n",
       "        text-align: right;\n",
       "    }\n",
       "</style>\n",
       "<table border=\"1\" class=\"dataframe\">\n",
       "  <thead>\n",
       "    <tr style=\"text-align: right;\">\n",
       "      <th></th>\n",
       "      <th>POR eFG%</th>\n",
       "      <th>PORTOV%</th>\n",
       "      <th>POR ORB%</th>\n",
       "      <th>POR FT/FGA</th>\n",
       "      <th>POR ORtg</th>\n",
       "      <th>Opp eFG%</th>\n",
       "      <th>Opp TOV%</th>\n",
       "      <th>Opp ORB%</th>\n",
       "      <th>Opp FT/FGA</th>\n",
       "      <th>Opp ORtg</th>\n",
       "      <th>Home</th>\n",
       "      <th>Away</th>\n",
       "    </tr>\n",
       "  </thead>\n",
       "  <tbody>\n",
       "    <tr>\n",
       "      <th>0</th>\n",
       "      <td>0.528</td>\n",
       "      <td>10.7</td>\n",
       "      <td>23.4</td>\n",
       "      <td>0.222</td>\n",
       "      <td>115.4</td>\n",
       "      <td>0.390</td>\n",
       "      <td>9.7</td>\n",
       "      <td>19.0</td>\n",
       "      <td>0.176</td>\n",
       "      <td>87.3</td>\n",
       "      <td>1</td>\n",
       "      <td>0</td>\n",
       "    </tr>\n",
       "    <tr>\n",
       "      <th>1</th>\n",
       "      <td>0.601</td>\n",
       "      <td>17.8</td>\n",
       "      <td>26.8</td>\n",
       "      <td>0.202</td>\n",
       "      <td>115.2</td>\n",
       "      <td>0.401</td>\n",
       "      <td>7.8</td>\n",
       "      <td>29.5</td>\n",
       "      <td>0.170</td>\n",
       "      <td>100.6</td>\n",
       "      <td>1</td>\n",
       "      <td>0</td>\n",
       "    </tr>\n",
       "    <tr>\n",
       "      <th>2</th>\n",
       "      <td>0.494</td>\n",
       "      <td>15.0</td>\n",
       "      <td>17.6</td>\n",
       "      <td>0.198</td>\n",
       "      <td>98.9</td>\n",
       "      <td>0.417</td>\n",
       "      <td>15.2</td>\n",
       "      <td>24.5</td>\n",
       "      <td>0.345</td>\n",
       "      <td>96.0</td>\n",
       "      <td>0</td>\n",
       "      <td>1</td>\n",
       "    </tr>\n",
       "    <tr>\n",
       "      <th>3</th>\n",
       "      <td>0.506</td>\n",
       "      <td>9.6</td>\n",
       "      <td>14.9</td>\n",
       "      <td>0.136</td>\n",
       "      <td>105.2</td>\n",
       "      <td>0.443</td>\n",
       "      <td>11.1</td>\n",
       "      <td>30.9</td>\n",
       "      <td>0.146</td>\n",
       "      <td>103.1</td>\n",
       "      <td>0</td>\n",
       "      <td>1</td>\n",
       "    </tr>\n",
       "    <tr>\n",
       "      <th>4</th>\n",
       "      <td>0.510</td>\n",
       "      <td>9.6</td>\n",
       "      <td>22.6</td>\n",
       "      <td>0.270</td>\n",
       "      <td>116.4</td>\n",
       "      <td>0.453</td>\n",
       "      <td>6.7</td>\n",
       "      <td>31.1</td>\n",
       "      <td>0.164</td>\n",
       "      <td>111.9</td>\n",
       "      <td>1</td>\n",
       "      <td>0</td>\n",
       "    </tr>\n",
       "  </tbody>\n",
       "</table>\n",
       "</div>"
      ],
      "text/plain": [
       "   POR eFG%  PORTOV%  POR ORB%  POR FT/FGA  POR ORtg  Opp eFG%  Opp TOV%  \\\n",
       "0     0.528     10.7      23.4       0.222     115.4     0.390       9.7   \n",
       "1     0.601     17.8      26.8       0.202     115.2     0.401       7.8   \n",
       "2     0.494     15.0      17.6       0.198      98.9     0.417      15.2   \n",
       "3     0.506      9.6      14.9       0.136     105.2     0.443      11.1   \n",
       "4     0.510      9.6      22.6       0.270     116.4     0.453       6.7   \n",
       "\n",
       "   Opp ORB%  Opp FT/FGA  Opp ORtg  Home  Away  \n",
       "0      19.0       0.176      87.3     1     0  \n",
       "1      29.5       0.170     100.6     1     0  \n",
       "2      24.5       0.345      96.0     0     1  \n",
       "3      30.9       0.146     103.1     0     1  \n",
       "4      31.1       0.164     111.9     1     0  "
      ]
     },
     "execution_count": 188,
     "metadata": {},
     "output_type": "execute_result"
    }
   ],
   "source": [
    "features.head()"
   ]
  },
  {
   "cell_type": "code",
   "execution_count": 192,
   "metadata": {},
   "outputs": [],
   "source": [
    "X = features\n",
    "y = train['Blazers']"
   ]
  },
  {
   "cell_type": "code",
   "execution_count": 193,
   "metadata": {},
   "outputs": [],
   "source": [
    "from sklearn.model_selection import train_test_split\n",
    "\n",
    "X_train, X_test, y_train, y_test = train_test_split(X,y)"
   ]
  },
  {
   "cell_type": "code",
   "execution_count": 207,
   "metadata": {},
   "outputs": [
    {
     "name": "stdout",
     "output_type": "stream",
     "text": [
      "0.0 0.8558899723453315\n",
      "0.0 0.8227081011968704\n",
      "\n",
      "0.1 0.8454059724517536\n",
      "0.1 0.8163061833755966\n",
      "\n",
      "0.2 0.8368448100581929\n",
      "0.2 0.8155075122678273\n",
      "\n",
      "0.3 0.8265370553827355\n",
      "0.3 0.810348819174923\n",
      "\n",
      "0.4 0.8150799928994709\n",
      "0.4 0.8024823167478154\n",
      "\n",
      "0.5 0.8029323939828817\n",
      "0.5 0.7929367865179942\n",
      "\n",
      "0.6 0.7904010276840471\n",
      "0.6 0.782345621526686\n",
      "\n",
      "0.7 0.7776938566854089\n",
      "0.7 0.7711155311452412\n",
      "\n",
      "0.8 0.7649546917798449\n",
      "0.8 0.7595175200487639\n",
      "\n",
      "0.9 0.7522843009643545\n",
      "0.9 0.7477372845580825\n",
      "\n"
     ]
    }
   ],
   "source": [
    "from sklearn.linear_model import Ridge\n",
    "from sklearn.metrics import r2_score\n",
    "\n",
    "for alpha in range(10):\n",
    "    alpha=alpha/10\n",
    "    scaler = StandardScaler()\n",
    "    X_train = scaler.fit_transform(X_train)\n",
    "    X_test = scaler.transform(X_test)\n",
    "\n",
    "    # Instantiate the model.\n",
    "    #(Alpha of zero has no regularization strength, essentially a basic linear regression.)\n",
    "    ridgereg = Ridge(alpha=alpha, normalize=True)\n",
    "\n",
    "    # Fit the model.\n",
    "    ridgereg.fit(X_train, y_train)\n",
    "\n",
    "    # Predict with fitted model.\n",
    "    predictions = ridgereg.predict(X_test)\n",
    "\n",
    "    #print(np.sqrt(metrics.mean_squared_error(y_test, y_pred)))\n",
    "    training_score = ridgereg.score(X_train,y_train)\n",
    "    testing_score = r2_score(y_test,predictions)\n",
    "    print(alpha,training_score)\n",
    "    print(alpha,testing_score)\n",
    "    print('')"
   ]
  },
  {
   "cell_type": "code",
   "execution_count": 195,
   "metadata": {},
   "outputs": [
    {
     "data": {
      "text/plain": [
       "array([111.69230769, 111.69230769, 111.69230769, 111.69230769,\n",
       "       111.69230769, 111.69230769, 111.69230769, 111.69230769,\n",
       "       111.69230769, 111.69230769, 111.69230769, 111.69230769,\n",
       "       111.69230769])"
      ]
     },
     "execution_count": 195,
     "metadata": {},
     "output_type": "execute_result"
    }
   ],
   "source": [
    "# Create a NumPy array with the same shape as y_test.\n",
    "y_null = np.zeros_like(y_test, dtype=float)\n",
    "\n",
    "# Fill the array with the mean value of y_test.\n",
    "y_null.fill(y_test.mean())\n",
    "y_null"
   ]
  },
  {
   "cell_type": "code",
   "execution_count": 196,
   "metadata": {},
   "outputs": [
    {
     "name": "stdout",
     "output_type": "stream",
     "text": [
      "Null RMSE: 10.936070278491021\n",
      "Predicted RMSE: 5.492724614919038\n"
     ]
    }
   ],
   "source": [
    "print('Null RMSE:', np.sqrt(metrics.mean_squared_error(y_test, y_null)))\n",
    "print('Predicted RMSE:', np.sqrt(metrics.mean_squared_error(y_test,predictions)))"
   ]
  },
  {
   "cell_type": "code",
   "execution_count": null,
   "metadata": {},
   "outputs": [],
   "source": []
  },
  {
   "cell_type": "code",
   "execution_count": 203,
   "metadata": {},
   "outputs": [],
   "source": [
    "predictions=pd.DataFrame(predictions)"
   ]
  },
  {
   "cell_type": "code",
   "execution_count": 204,
   "metadata": {},
   "outputs": [],
   "source": [
    "predictions.to_csv('prediction_5_ridge.csv')"
   ]
  },
  {
   "cell_type": "code",
   "execution_count": null,
   "metadata": {},
   "outputs": [],
   "source": []
  }
 ],
 "metadata": {
  "kernelspec": {
   "display_name": "Python 3",
   "language": "python",
   "name": "python3"
  },
  "language_info": {
   "codemirror_mode": {
    "name": "ipython",
    "version": 3
   },
   "file_extension": ".py",
   "mimetype": "text/x-python",
   "name": "python",
   "nbconvert_exporter": "python",
   "pygments_lexer": "ipython3",
   "version": "3.7.3"
  }
 },
 "nbformat": 4,
 "nbformat_minor": 2
}
